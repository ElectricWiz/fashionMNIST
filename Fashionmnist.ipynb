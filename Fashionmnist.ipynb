{
  "cells": [
    {
      "cell_type": "markdown",
      "metadata": {
        "id": "TOxX0voiNlrJ"
      },
      "source": [
        "Colab notebook for the cration of an image classifier with a CNN using keras and their fashion mnist dataset\n",
        "Label    Description\n",
        "0        T-shirt/top\n",
        "1        Trouser\n",
        "2        Pullover\n",
        "3        Dress\n",
        "4        Coat\n",
        "5        Sandal\n",
        "6        Shirt\n",
        "7        Sneaker\n",
        "8        Bag\n",
        "9        Ankle boot"
      ]
    },
    {
      "cell_type": "code",
      "execution_count": 21,
      "metadata": {
        "id": "a5LkMAbsNeow"
      },
      "outputs": [],
      "source": [
        "import pandas as pd\n",
        "import numpy as np\n",
        "import matplotlib.pyplot as plt\n",
        "import seaborn as sns"
      ]
    },
    {
      "cell_type": "code",
      "execution_count": 22,
      "metadata": {
        "id": "_fEJM8fqPLHu"
      },
      "outputs": [],
      "source": [
        "from tensorflow.keras.datasets import fashion_mnist\n",
        "\n",
        "(X_train, y_train), (X_test, y_test) = fashion_mnist.load_data()"
      ]
    },
    {
      "cell_type": "code",
      "execution_count": 23,
      "metadata": {
        "id": "FjSZZg7QQQyI"
      },
      "outputs": [],
      "source": [
        "import matplotlib.pyplot as plt"
      ]
    },
    {
      "cell_type": "code",
      "execution_count": 24,
      "metadata": {
        "colab": {
          "base_uri": "https://localhost:8080/",
          "height": 282
        },
        "id": "Akms_4XHQ8zV",
        "outputId": "70d10add-63b5-4b88-8b1b-3a478eee7fdd"
      },
      "outputs": [
        {
          "output_type": "execute_result",
          "data": {
            "text/plain": [
              "<matplotlib.image.AxesImage at 0x7f68fcf73310>"
            ]
          },
          "metadata": {},
          "execution_count": 24
        },
        {
          "output_type": "display_data",
          "data": {
            "text/plain": [
              "<Figure size 432x288 with 1 Axes>"
            ],
            "image/png": "[encoded data removed]"
          },
          "metadata": {
            "needs_background": "light"
          }
        }
      ],
      "source": [
        "plt.imshow(X_train[3],cmap=\"plasma\")"
      ]
    },
    {
      "cell_type": "code",
      "execution_count": 25,
      "metadata": {
        "colab": {
          "base_uri": "https://localhost:8080/"
        },
        "id": "Z83mCXRxRFTM",
        "outputId": "1c67cbc7-7775-42e1-ebf7-00d1f96c0b2a"
      },
      "outputs": [
        {
          "output_type": "execute_result",
          "data": {
            "text/plain": [
              "255"
            ]
          },
          "metadata": {},
          "execution_count": 25
        }
      ],
      "source": [
        "X_train.max()"
      ]
    },
    {
      "cell_type": "code",
      "execution_count": 26,
      "metadata": {
        "id": "e9hZexU1RMti"
      },
      "outputs": [],
      "source": [
        "X_train = X_train/255"
      ]
    },
    {
      "cell_type": "code",
      "execution_count": 27,
      "metadata": {
        "id": "Rxl97RnKRQtI"
      },
      "outputs": [],
      "source": [
        "X_test = X_test/255"
      ]
    },
    {
      "cell_type": "code",
      "execution_count": 28,
      "metadata": {
        "id": "fQehUVNmRTdy"
      },
      "outputs": [],
      "source": [
        "X_train = X_train.reshape((60000,28,28,1))"
      ]
    },
    {
      "cell_type": "code",
      "execution_count": 29,
      "metadata": {
        "id": "tK_gwoHbR2Fc"
      },
      "outputs": [],
      "source": [
        "X_test = X_test.reshape((10000,28,28,1))"
      ]
    },
    {
      "cell_type": "markdown",
      "metadata": {
        "id": "LacTV7ZcSFTt"
      },
      "source": [
        "To convert the y columns to categorical date the to_categorical function must be used"
      ]
    },
    {
      "cell_type": "code",
      "execution_count": 30,
      "metadata": {
        "id": "IdbnqdHySg3G"
      },
      "outputs": [],
      "source": [
        "from tensorflow.keras.utils import to_categorical"
      ]
    },
    {
      "cell_type": "code",
      "execution_count": 31,
      "metadata": {
        "id": "1HrBldggSCZz"
      },
      "outputs": [],
      "source": [
        "y_cat_train = to_categorical(y_train,10)\n",
        "y_cat_test = to_categorical(y_test,10)"
      ]
    },
    {
      "cell_type": "code",
      "execution_count": 32,
      "metadata": {
        "colab": {
          "base_uri": "https://localhost:8080/"
        },
        "id": "y7_vMBstTPhU",
        "outputId": "05241af8-cc72-489c-efbe-eae71a54f987"
      },
      "outputs": [
        {
          "output_type": "execute_result",
          "data": {
            "text/plain": [
              "(60000, 10)"
            ]
          },
          "metadata": {},
          "execution_count": 32
        }
      ],
      "source": [
        "y_cat_train.shape"
      ]
    },
    {
      "cell_type": "code",
      "execution_count": 33,
      "metadata": {
        "id": "rqz1tbjUSbFG"
      },
      "outputs": [],
      "source": [
        "from tensorflow.keras.models import Sequential\n",
        "from tensorflow.keras.layers import Conv2D, Dense, MaxPool2D, Flatten\n",
        "from tensorflow.config import run_functions_eagerly"
      ]
    },
    {
      "cell_type": "code",
      "execution_count": 34,
      "metadata": {
        "id": "V78HN0g7XVFQ"
      },
      "outputs": [],
      "source": [
        "run_functions_eagerly(True)"
      ]
    },
    {
      "cell_type": "code",
      "execution_count": 35,
      "metadata": {
        "id": "0rBrVP62S9F1"
      },
      "outputs": [],
      "source": [
        "model = Sequential()\n",
        "\n",
        "model.add(Conv2D(filters = 32,kernel_size=(4,4), input_shape=(28,28,1), activation='relu'))\n",
        "model.add(MaxPool2D(pool_size=(2,2)))\n",
        "\n",
        "model.add(Flatten())\n",
        "\n",
        "model.add(Dense(128, activation='relu'))\n",
        "\n",
        "model.add(Dense(10, activation='softmax'))\n",
        "\n",
        "model.compile(loss='categorical_crossentropy', optimizer='rmsprop', metrics=['accuracy'])"
      ]
    },
    {
      "cell_type": "code",
      "execution_count": 36,
      "metadata": {
        "colab": {
          "base_uri": "https://localhost:8080/"
        },
        "id": "QKBGQKX6Te-D",
        "outputId": "fb41d5bf-8936-4c11-b057-9c40bc99385e"
      },
      "outputs": [
        {
          "output_type": "stream",
          "name": "stdout",
          "text": [
            "Model: \"sequential_1\"\n",
            "_________________________________________________________________\n",
            " Layer (type)                Output Shape              Param #   \n",
            "=================================================================\n",
            " conv2d_1 (Conv2D)           (None, 25, 25, 32)        544       \n",
            "                                                                 \n",
            " max_pooling2d_1 (MaxPooling  (None, 12, 12, 32)       0         \n",
            " 2D)                                                             \n",
            "                                                                 \n",
            " flatten_1 (Flatten)         (None, 4608)              0         \n",
            "                                                                 \n",
            " dense_2 (Dense)             (None, 128)               589952    \n",
            "                                                                 \n",
            " dense_3 (Dense)             (None, 10)                1290      \n",
            "                                                                 \n",
            "=================================================================\n",
            "Total params: 591,786\n",
            "Trainable params: 591,786\n",
            "Non-trainable params: 0\n",
            "_________________________________________________________________\n"
          ]
        }
      ],
      "source": [
        "model.summary()"
      ]
    },
    {
      "cell_type": "code",
      "execution_count": 37,
      "metadata": {
        "id": "wYxrQwfOUrHA"
      },
      "outputs": [],
      "source": [
        "from tensorflow.keras.callbacks import EarlyStopping"
      ]
    },
    {
      "cell_type": "code",
      "execution_count": 62,
      "metadata": {
        "id": "bCDs38EtU-bq"
      },
      "outputs": [],
      "source": [
        "callback1 = EarlyStopping(monitor=\"val_accuracy\", mode='max', patience=3)"
      ]
    },
    {
      "cell_type": "markdown",
      "metadata": {
        "id": "pALyqTQ8VeWS"
      },
      "source": [
        "Now the neural network will be fitted to the dataset"
      ]
    },
    {
      "cell_type": "code",
      "execution_count": 39,
      "metadata": {
        "colab": {
          "base_uri": "https://localhost:8080/"
        },
        "id": "FpgbhQBgVTGC",
        "outputId": "23c5e859-bb25-482b-8dcd-e19df7261038"
      },
      "outputs": [
        {
          "output_type": "stream",
          "name": "stdout",
          "text": [
            "Epoch 1/25\n"
          ]
        },
        {
          "output_type": "stream",
          "name": "stderr",
          "text": [
            "/usr/local/lib/python3.7/dist-packages/tensorflow/python/data/ops/structured_function.py:265: UserWarning: Even though the `tf.config.experimental_run_functions_eagerly` option is set, this option does not apply to tf.data functions. To force eager execution of tf.data functions, please use `tf.data.experimental.enable_debug_mode()`.\n",
            "  \"Even though the `tf.config.experimental_run_functions_eagerly` \"\n"
          ]
        },
        {
          "output_type": "stream",
          "name": "stdout",
          "text": [
            "1875/1875 [==============================] - 99s 53ms/step - loss: 0.4026 - accuracy: 0.8569 - val_loss: 0.3142 - val_accuracy: 0.8840\n",
            "Epoch 2/25\n",
            "1875/1875 [==============================] - 97s 52ms/step - loss: 0.2774 - accuracy: 0.9002 - val_loss: 0.2931 - val_accuracy: 0.8964\n",
            "Epoch 3/25\n",
            "1875/1875 [==============================] - 95s 51ms/step - loss: 0.2395 - accuracy: 0.9143 - val_loss: 0.2752 - val_accuracy: 0.9011\n",
            "Epoch 4/25\n",
            "1875/1875 [==============================] - 95s 51ms/step - loss: 0.2140 - accuracy: 0.9234 - val_loss: 0.2969 - val_accuracy: 0.9017\n",
            "Epoch 5/25\n",
            "1875/1875 [==============================] - 92s 49ms/step - loss: 0.1963 - accuracy: 0.9297 - val_loss: 0.2843 - val_accuracy: 0.9055\n",
            "Epoch 6/25\n",
            "1875/1875 [==============================] - 92s 49ms/step - loss: 0.1831 - accuracy: 0.9346 - val_loss: 0.2829 - val_accuracy: 0.9086\n",
            "Epoch 7/25\n",
            "1875/1875 [==============================] - 90s 48ms/step - loss: 0.1709 - accuracy: 0.9402 - val_loss: 0.3099 - val_accuracy: 0.9043\n",
            "Epoch 8/25\n",
            "1875/1875 [==============================] - 92s 49ms/step - loss: 0.1591 - accuracy: 0.9438 - val_loss: 0.3172 - val_accuracy: 0.9077\n"
          ]
        },
        {
          "output_type": "execute_result",
          "data": {
            "text/plain": [
              "<keras.callbacks.History at 0x7f68fcef7890>"
            ]
          },
          "metadata": {},
          "execution_count": 39
        }
      ],
      "source": [
        "model.fit(X_train, y_cat_train, epochs=25,validation_data=(X_test, y_cat_test), callbacks=[callback1])"
      ]
    },
    {
      "cell_type": "code",
      "execution_count": 40,
      "metadata": {
        "id": "Xru9-Jz-WVy1"
      },
      "outputs": [],
      "source": [
        "metrics = pd.DataFrame(model.history.history)"
      ]
    },
    {
      "cell_type": "code",
      "execution_count": 41,
      "metadata": {
        "colab": {
          "base_uri": "https://localhost:8080/",
          "height": 282
        },
        "id": "PHzZ6IWGzS_4",
        "outputId": "f50187ba-1e74-4747-f9ab-4b15c958780a"
      },
      "outputs": [
        {
          "output_type": "execute_result",
          "data": {
            "text/plain": [
              "<matplotlib.axes._subplots.AxesSubplot at 0x7f68fce06390>"
            ]
          },
          "metadata": {},
          "execution_count": 41
        },
        {
          "output_type": "display_data",
          "data": {
            "text/plain": [
              "<Figure size 432x288 with 1 Axes>"
            ],
            "image/png": "[encoded data removed]"
          },
          "metadata": {
            "needs_background": "light"
          }
        }
      ],
      "source": [
        "metrics[['accuracy','val_accuracy']].plot()"
      ]
    },
    {
      "cell_type": "code",
      "execution_count": 42,
      "metadata": {
        "colab": {
          "base_uri": "https://localhost:8080/",
          "height": 282
        },
        "id": "SOmcpnlazcSZ",
        "outputId": "9d3b54ed-36d3-43e4-e892-defb05ad4256"
      },
      "outputs": [
        {
          "output_type": "execute_result",
          "data": {
            "text/plain": [
              "<matplotlib.axes._subplots.AxesSubplot at 0x7f68fcd94710>"
            ]
          },
          "metadata": {},
          "execution_count": 42
        },
        {
          "output_type": "display_data",
          "data": {
            "text/plain": [
              "<Figure size 432x288 with 1 Axes>"
            ],
            "image/png": "[encoded data removed]"
          },
          "metadata": {
            "needs_background": "light"
          }
        }
      ],
      "source": [
        "metrics[['loss','val_loss']].plot()"
      ]
    },
    {
      "cell_type": "markdown",
      "metadata": {
        "id": "MjU5OgzbzwvG"
      },
      "source": [
        "By this graph, the better metrics for the earlystopper to use is the validation loss"
      ]
    },
    {
      "cell_type": "code",
      "execution_count": 61,
      "metadata": {
        "id": "XL2Sulv5zrcv"
      },
      "outputs": [],
      "source": [
        "callback2 = EarlyStopping(monitor=\"val_loss\", mode='min', patience=3)"
      ]
    },
    {
      "cell_type": "code",
      "execution_count": 44,
      "metadata": {
        "id": "3MgUqv_0Chku"
      },
      "outputs": [],
      "source": [
        "model = Sequential()\n",
        "\n",
        "model.add(Conv2D(filters = 32,kernel_size=(4,4), input_shape=(28,28,1), activation='relu'))\n",
        "model.add(MaxPool2D(pool_size=(2,2)))\n",
        "\n",
        "model.add(Flatten())\n",
        "\n",
        "model.add(Dense(128, activation='relu'))\n",
        "\n",
        "model.add(Dense(10, activation='softmax'))\n",
        "\n",
        "model.compile(loss='categorical_crossentropy', optimizer='rmsprop', metrics=['accuracy'])"
      ]
    },
    {
      "cell_type": "code",
      "execution_count": 46,
      "metadata": {
        "colab": {
          "base_uri": "https://localhost:8080/"
        },
        "id": "i4pNlkBsz-vM",
        "outputId": "3aa0b498-3d52-42f4-b72e-3380900df3e8"
      },
      "outputs": [
        {
          "output_type": "stream",
          "name": "stdout",
          "text": [
            "Epoch 1/25\n",
            "   1/1875 [..............................] - ETA: 1:50 - loss: 2.3424 - accuracy: 0.0625"
          ]
        },
        {
          "output_type": "stream",
          "name": "stderr",
          "text": [
            "/usr/local/lib/python3.7/dist-packages/tensorflow/python/data/ops/structured_function.py:265: UserWarning: Even though the `tf.config.experimental_run_functions_eagerly` option is set, this option does not apply to tf.data functions. To force eager execution of tf.data functions, please use `tf.data.experimental.enable_debug_mode()`.\n",
            "  \"Even though the `tf.config.experimental_run_functions_eagerly` \"\n"
          ]
        },
        {
          "output_type": "stream",
          "name": "stdout",
          "text": [
            "1875/1875 [==============================] - 95s 51ms/step - loss: 0.3991 - accuracy: 0.8568 - val_loss: 0.3327 - val_accuracy: 0.8851\n",
            "Epoch 2/25\n",
            "1875/1875 [==============================] - 89s 48ms/step - loss: 0.2760 - accuracy: 0.9007 - val_loss: 0.3007 - val_accuracy: 0.8918\n",
            "Epoch 3/25\n",
            "1875/1875 [==============================] - 91s 49ms/step - loss: 0.2370 - accuracy: 0.9146 - val_loss: 0.2858 - val_accuracy: 0.8985\n",
            "Epoch 4/25\n",
            "1875/1875 [==============================] - 89s 48ms/step - loss: 0.2133 - accuracy: 0.9239 - val_loss: 0.2834 - val_accuracy: 0.9050\n",
            "Epoch 5/25\n",
            "1875/1875 [==============================] - 92s 49ms/step - loss: 0.1946 - accuracy: 0.9306 - val_loss: 0.2717 - val_accuracy: 0.9087\n",
            "Epoch 6/25\n",
            "1875/1875 [==============================] - 88s 47ms/step - loss: 0.1813 - accuracy: 0.9354 - val_loss: 0.2801 - val_accuracy: 0.9066\n",
            "Epoch 7/25\n",
            "1875/1875 [==============================] - 90s 48ms/step - loss: 0.1675 - accuracy: 0.9409 - val_loss: 0.3195 - val_accuracy: 0.8996\n"
          ]
        },
        {
          "output_type": "execute_result",
          "data": {
            "text/plain": [
              "<keras.callbacks.History at 0x7f68fcdabf10>"
            ]
          },
          "metadata": {},
          "execution_count": 46
        }
      ],
      "source": [
        "model.fit(X_train, y_cat_train, epochs=25,validation_data=(X_test, y_cat_test), callbacks=[callback2])"
      ]
    },
    {
      "cell_type": "code",
      "execution_count": 47,
      "metadata": {
        "colab": {
          "base_uri": "https://localhost:8080/",
          "height": 282
        },
        "id": "lkqCNa2q0Hr6",
        "outputId": "aa5c4f87-bf42-4c95-b788-42cc833b5f3d"
      },
      "outputs": [
        {
          "output_type": "execute_result",
          "data": {
            "text/plain": [
              "<matplotlib.axes._subplots.AxesSubplot at 0x7f68fccbbd50>"
            ]
          },
          "metadata": {},
          "execution_count": 47
        },
        {
          "output_type": "display_data",
          "data": {
            "text/plain": [
              "<Figure size 432x288 with 1 Axes>"
            ],
            "image/png": "[encoded data removed]"
          },
          "metadata": {
            "needs_background": "light"
          }
        }
      ],
      "source": [
        "metrics = pd.DataFrame(model.history.history)\n",
        "metrics[['loss','val_loss']].plot()"
      ]
    },
    {
      "cell_type": "code",
      "execution_count": 48,
      "metadata": {
        "id": "7JLKP8oGPkv8"
      },
      "outputs": [],
      "source": [
        "from tensorflow.keras.layers import Dropout"
      ]
    },
    {
      "cell_type": "code",
      "execution_count": 49,
      "metadata": {
        "colab": {
          "base_uri": "https://localhost:8080/"
        },
        "id": "D7YsW8EZsXJQ",
        "outputId": "ddd6cc74-214e-4388-b0db-d3a701acf50f"
      },
      "outputs": [
        {
          "output_type": "execute_result",
          "data": {
            "text/plain": [
              "(28, 28, 1)"
            ]
          },
          "metadata": {},
          "execution_count": 49
        }
      ],
      "source": [
        "X_test[0].shape"
      ]
    },
    {
      "cell_type": "markdown",
      "metadata": {
        "id": "SdthbpTQHJsu"
      },
      "source": [
        "If the net is made deeper, maybe will improve the model"
      ]
    },
    {
      "cell_type": "code",
      "execution_count": 65,
      "metadata": {
        "id": "KujlXaZXG8hj"
      },
      "outputs": [],
      "source": [
        "model = Sequential()\n",
        "\n",
        "model.add(Conv2D(filters = 32 ,kernel_size=(3,3), input_shape=(28,28,1), activation='relu'))\n",
        "model.add(MaxPool2D(pool_size=(2,2)))\n",
        "model.add(Dropout(.8))\n",
        "\n",
        "model.add(Flatten())\n",
        "\n",
        "model.add(Dense(80, activation='relu'))\n",
        "model.add(Dropout(.5))\n",
        "\n",
        "model.add(Dense(60, activation='relu'))\n",
        "\n",
        "model.add(Dense(10, activation='softmax'))\n",
        "\n",
        "model.compile(loss='categorical_crossentropy', optimizer='rmsprop', metrics=['accuracy'])"
      ]
    },
    {
      "cell_type": "code",
      "execution_count": 66,
      "metadata": {
        "colab": {
          "base_uri": "https://localhost:8080/"
        },
        "id": "7x8BZ21-G9GQ",
        "outputId": "300fd867-7bf8-43fa-ba71-4c57e7c62cc6"
      },
      "outputs": [
        {
          "output_type": "stream",
          "name": "stdout",
          "text": [
            "Epoch 1/25\n",
            "118/118 [==============================] - 38s 320ms/step - loss: 0.9011 - accuracy: 0.6716 - val_loss: 0.5639 - val_accuracy: 0.7732\n",
            "Epoch 2/25\n",
            "118/118 [==============================] - 38s 322ms/step - loss: 0.5766 - accuracy: 0.7909 - val_loss: 0.4536 - val_accuracy: 0.8416\n",
            "Epoch 3/25\n",
            "118/118 [==============================] - 38s 323ms/step - loss: 0.5078 - accuracy: 0.8169 - val_loss: 0.4120 - val_accuracy: 0.8467\n",
            "Epoch 4/25\n",
            "118/118 [==============================] - 37s 312ms/step - loss: 0.4745 - accuracy: 0.8298 - val_loss: 0.3737 - val_accuracy: 0.8648\n",
            "Epoch 5/25\n",
            "118/118 [==============================] - 37s 312ms/step - loss: 0.4543 - accuracy: 0.8379 - val_loss: 0.3784 - val_accuracy: 0.8600\n",
            "Epoch 6/25\n",
            "118/118 [==============================] - 38s 322ms/step - loss: 0.4344 - accuracy: 0.8461 - val_loss: 0.3564 - val_accuracy: 0.8728\n",
            "Epoch 7/25\n",
            "118/118 [==============================] - 37s 314ms/step - loss: 0.4241 - accuracy: 0.8479 - val_loss: 0.3356 - val_accuracy: 0.8778\n",
            "Epoch 8/25\n",
            "118/118 [==============================] - 38s 318ms/step - loss: 0.4155 - accuracy: 0.8506 - val_loss: 0.3390 - val_accuracy: 0.8778\n",
            "Epoch 9/25\n",
            "118/118 [==============================] - 38s 322ms/step - loss: 0.4089 - accuracy: 0.8551 - val_loss: 0.3223 - val_accuracy: 0.8850\n",
            "Epoch 10/25\n",
            "118/118 [==============================] - 37s 314ms/step - loss: 0.4006 - accuracy: 0.8572 - val_loss: 0.3311 - val_accuracy: 0.8815\n",
            "Epoch 11/25\n",
            "118/118 [==============================] - 38s 321ms/step - loss: 0.3961 - accuracy: 0.8586 - val_loss: 0.3398 - val_accuracy: 0.8729\n",
            "Epoch 12/25\n",
            "118/118 [==============================] - 37s 315ms/step - loss: 0.3946 - accuracy: 0.8594 - val_loss: 0.3121 - val_accuracy: 0.8879\n",
            "Epoch 13/25\n",
            "118/118 [==============================] - 38s 320ms/step - loss: 0.3864 - accuracy: 0.8628 - val_loss: 0.3128 - val_accuracy: 0.8878\n",
            "Epoch 14/25\n",
            "118/118 [==============================] - 37s 313ms/step - loss: 0.3825 - accuracy: 0.8643 - val_loss: 0.3148 - val_accuracy: 0.8881\n",
            "Epoch 15/25\n",
            "118/118 [==============================] - 38s 319ms/step - loss: 0.3794 - accuracy: 0.8643 - val_loss: 0.3059 - val_accuracy: 0.8904\n",
            "Epoch 16/25\n",
            "118/118 [==============================] - 38s 319ms/step - loss: 0.3792 - accuracy: 0.8648 - val_loss: 0.2989 - val_accuracy: 0.8952\n",
            "Epoch 17/25\n",
            "118/118 [==============================] - 36s 308ms/step - loss: 0.3773 - accuracy: 0.8651 - val_loss: 0.3017 - val_accuracy: 0.8903\n",
            "Epoch 18/25\n",
            "118/118 [==============================] - 38s 320ms/step - loss: 0.3735 - accuracy: 0.8669 - val_loss: 0.3084 - val_accuracy: 0.8895\n",
            "Epoch 19/25\n",
            "118/118 [==============================] - 38s 321ms/step - loss: 0.3689 - accuracy: 0.8696 - val_loss: 0.2945 - val_accuracy: 0.8937\n"
          ]
        },
        {
          "output_type": "execute_result",
          "data": {
            "text/plain": [
              "<keras.callbacks.History at 0x7f68fc8a2310>"
            ]
          },
          "metadata": {},
          "execution_count": 66
        }
      ],
      "source": [
        "model.fit(X_train, y_cat_train, batch_size=512,epochs=25,validation_data=(X_test, y_cat_test), callbacks=[callback1, callback2])"
      ]
    },
    {
      "cell_type": "code",
      "execution_count": 67,
      "metadata": {
        "id": "MNGKRHv5IQYH"
      },
      "outputs": [],
      "source": [
        "loss = pd.DataFrame(model.history.history)"
      ]
    },
    {
      "cell_type": "code",
      "source": [
        "loss[['loss','val_loss']].plot()"
      ],
      "metadata": {
        "colab": {
          "base_uri": "https://localhost:8080/",
          "height": 282
        },
        "id": "qB3TQ3Cj1WOZ",
        "outputId": "0c1b19d8-79c2-4267-b51f-b9e00b3baa35"
      },
      "execution_count": 69,
      "outputs": [
        {
          "output_type": "execute_result",
          "data": {
            "text/plain": [
              "<matplotlib.axes._subplots.AxesSubplot at 0x7f68fc7de4d0>"
            ]
          },
          "metadata": {},
          "execution_count": 69
        },
        {
          "output_type": "display_data",
          "data": {
            "text/plain": [
              "<Figure size 432x288 with 1 Axes>"
            ],
            "image/png": "[encoded data removed]"
          },
          "metadata": {
            "needs_background": "light"
          }
        }
      ]
    },
    {
      "cell_type": "code",
      "source": [
        "loss[['accuracy','val_accuracy']].plot()"
      ],
      "metadata": {
        "colab": {
          "base_uri": "https://localhost:8080/",
          "height": 282
        },
        "id": "cGIKHicM1cQ1",
        "outputId": "0c80f77c-2c57-4b97-85f4-c0c36f3353a3"
      },
      "execution_count": 70,
      "outputs": [
        {
          "output_type": "execute_result",
          "data": {
            "text/plain": [
              "<matplotlib.axes._subplots.AxesSubplot at 0x7f68fcc0a110>"
            ]
          },
          "metadata": {},
          "execution_count": 70
        },
        {
          "output_type": "display_data",
          "data": {
            "text/plain": [
              "<Figure size 432x288 with 1 Axes>"
            ],
            "image/png": "[encoded data removed]"
          },
          "metadata": {
            "needs_background": "light"
          }
        }
      ]
    },
    {
      "cell_type": "code",
      "source": [
        "from sklearn.metrics import classification_report, confusion_matrix"
      ],
      "metadata": {
        "id": "bwOYxMNe1uaq"
      },
      "execution_count": 71,
      "outputs": []
    },
    {
      "cell_type": "markdown",
      "source": [
        "The dropout layers, the reduction of the kernel size, and the addition of an extra hidden layer underfitted the model for better prediction accuracy on the test dataset"
      ],
      "metadata": {
        "id": "GWwbU-Li4Hpf"
      }
    },
    {
      "cell_type": "code",
      "source": [
        "predictions = model.predict(X_test)"
      ],
      "metadata": {
        "colab": {
          "base_uri": "https://localhost:8080/"
        },
        "id": "Dm2xJhAL2HAr",
        "outputId": "d0e90446-38cd-4583-87c0-dda0e3061255"
      },
      "execution_count": 72,
      "outputs": [
        {
          "metadata": {
            "tags": null
          },
          "name": "stdout",
          "output_type": "stream",
          "text": [
            " 11/313 [>.............................] - ETA: 3s"
          ]
        },
        {
          "metadata": {
            "tags": null
          },
          "name": "stderr",
          "output_type": "stream",
          "text": [
            "/usr/local/lib/python3.7/dist-packages/tensorflow/python/data/ops/structured_function.py:265: UserWarning: Even though the `tf.config.experimental_run_functions_eagerly` option is set, this option does not apply to tf.data functions. To force eager execution of tf.data functions, please use `tf.data.experimental.enable_debug_mode()`.\n",
            "  \"Even though the `tf.config.experimental_run_functions_eagerly` \"\n"
          ]
        },
        {
          "metadata": {
            "tags": null
          },
          "name": "stdout",
          "output_type": "stream",
          "text": [
            "313/313 [==============================] - 4s 14ms/step\n"
          ]
        }
      ]
    },
    {
      "cell_type": "code",
      "source": [
        "for p in predictions:\n",
        "  for j in range(len(p)):\n",
        "    if p[j] == p.max():\n",
        "      p[j] = 1\n",
        "    else:\n",
        "      p[j] = 0"
      ],
      "metadata": {
        "id": "pC6185bq2J3g"
      },
      "execution_count": 73,
      "outputs": []
    },
    {
      "cell_type": "code",
      "source": [
        "predictions[:20]"
      ],
      "metadata": {
        "colab": {
          "base_uri": "https://localhost:8080/"
        },
        "id": "CEbSHbcD2bvD",
        "outputId": "9940ca5e-442f-44f1-bf3e-1215d4ba6005"
      },
      "execution_count": 74,
      "outputs": [
        {
          "output_type": "execute_result",
          "data": {
            "text/plain": [
              "array([[0., 0., 0., 0., 0., 0., 0., 0., 0., 1.],\n",
              "       [0., 0., 1., 0., 0., 0., 0., 0., 0., 0.],\n",
              "       [0., 1., 0., 0., 0., 0., 0., 0., 0., 0.],\n",
              "       [0., 1., 0., 0., 0., 0., 0., 0., 0., 0.],\n",
              "       [0., 0., 0., 0., 0., 0., 1., 0., 0., 0.],\n",
              "       [0., 1., 0., 0., 0., 0., 0., 0., 0., 0.],\n",
              "       [0., 0., 0., 0., 1., 0., 0., 0., 0., 0.],\n",
              "       [0., 0., 0., 0., 0., 0., 1., 0., 0., 0.],\n",
              "       [0., 0., 0., 0., 0., 1., 0., 0., 0., 0.],\n",
              "       [0., 0., 0., 0., 0., 0., 0., 1., 0., 0.],\n",
              "       [0., 0., 0., 0., 1., 0., 0., 0., 0., 0.],\n",
              "       [0., 0., 0., 0., 0., 1., 0., 0., 0., 0.],\n",
              "       [0., 0., 0., 0., 0., 0., 0., 0., 1., 0.],\n",
              "       [0., 0., 0., 1., 0., 0., 0., 0., 0., 0.],\n",
              "       [0., 0., 0., 0., 1., 0., 0., 0., 0., 0.],\n",
              "       [0., 1., 0., 0., 0., 0., 0., 0., 0., 0.],\n",
              "       [0., 0., 1., 0., 0., 0., 0., 0., 0., 0.],\n",
              "       [0., 0., 0., 0., 1., 0., 0., 0., 0., 0.],\n",
              "       [0., 0., 0., 0., 0., 0., 0., 0., 1., 0.],\n",
              "       [1., 0., 0., 0., 0., 0., 0., 0., 0., 0.]], dtype=float32)"
            ]
          },
          "metadata": {},
          "execution_count": 74
        }
      ]
    },
    {
      "cell_type": "code",
      "source": [
        "print(classification_report(y_cat_test,predictions))"
      ],
      "metadata": {
        "colab": {
          "base_uri": "https://localhost:8080/"
        },
        "id": "3H-EdiiP2ez8",
        "outputId": "f92a4a2d-65c4-47d9-b068-b1a50e5af64e"
      },
      "execution_count": 75,
      "outputs": [
        {
          "output_type": "stream",
          "name": "stdout",
          "text": [
            "              precision    recall  f1-score   support\n",
            "\n",
            "           0       0.85      0.83      0.84      1000\n",
            "           1       0.99      0.97      0.98      1000\n",
            "           2       0.86      0.81      0.83      1000\n",
            "           3       0.86      0.93      0.89      1000\n",
            "           4       0.80      0.85      0.82      1000\n",
            "           5       0.98      0.98      0.98      1000\n",
            "           6       0.72      0.68      0.70      1000\n",
            "           7       0.93      0.97      0.95      1000\n",
            "           8       0.97      0.97      0.97      1000\n",
            "           9       0.97      0.95      0.96      1000\n",
            "\n",
            "   micro avg       0.89      0.89      0.89     10000\n",
            "   macro avg       0.89      0.89      0.89     10000\n",
            "weighted avg       0.89      0.89      0.89     10000\n",
            " samples avg       0.89      0.89      0.89     10000\n",
            "\n"
          ]
        }
      ]
    },
    {
      "cell_type": "markdown",
      "source": [
        "The model has a good perfomance overall, except for predicting if an object is a shirt, all the f1_score are above .7, so confidently one can say that the model is predicting something instead of being random choices, especially for clothes that are not weared in the tors0 i.e. ankle boot, bag, trouser, and its logical because there are not possible conflicting labels, but for pullover, dress, coat, and specially shirt which was the worst predicted label by model, and that makes sense because all of them are similiar if not very similar, confusing the CNN\n"
      ],
      "metadata": {
        "id": "SlyecaFF3O20"
      }
    },
    {
      "cell_type": "code",
      "source": [],
      "metadata": {
        "id": "QHYCDDUY4DE7"
      },
      "execution_count": null,
      "outputs": []
    }
  ],
  "metadata": {
    "colab": {
      "collapsed_sections": [],
      "provenance": []
    },
    "kernelspec": {
      "display_name": "Python 3",
      "name": "python3"
    },
    "language_info": {
      "name": "python"
    }
  },
  "nbformat": 4,
  "nbformat_minor": 0
}
